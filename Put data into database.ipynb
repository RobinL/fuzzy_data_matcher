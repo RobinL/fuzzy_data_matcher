{
 "cells": [
  {
   "cell_type": "code",
   "execution_count": 232,
   "metadata": {
    "collapsed": false
   },
   "outputs": [],
   "source": [
    "import connections"
   ]
  },
  {
   "cell_type": "code",
   "execution_count": 233,
   "metadata": {
    "collapsed": true
   },
   "outputs": [],
   "source": [
    "path_to_candidate_dataset = r\"test_data/dataset1/candidate_dataset.csv\"\n",
    "path_to_target_dataset = r\"test_data/dataset1/target_dataset.csv\""
   ]
  },
  {
   "cell_type": "code",
   "execution_count": 234,
   "metadata": {
    "collapsed": true
   },
   "outputs": [],
   "source": [
    "# Open datasets, concat everything into a single field and add to db\n",
    "import pandas as pd"
   ]
  },
  {
   "cell_type": "code",
   "execution_count": 235,
   "metadata": {
    "collapsed": true
   },
   "outputs": [],
   "source": [
    "df_candidate = pd.read_csv(path_to_candidate_dataset, encoding=\"utf-8\",  dtype=object,)\n",
    "df_target = pd.read_csv(path_to_target_dataset, encoding=\"utf-8\",  dtype=object,)"
   ]
  },
  {
   "cell_type": "code",
   "execution_count": 236,
   "metadata": {
    "collapsed": true
   },
   "outputs": [],
   "source": [
    "from data_preprocessing import add_dmetaphone_cols\n",
    "df_candidate = add_dmetaphone_cols(df_candidate, [\"first_name\", \"surname\", \"city\"])\n",
    "df_target = add_dmetaphone_cols(df_target, [\"first_name\", \"surname\", \"city\"])"
   ]
  },
  {
   "cell_type": "code",
   "execution_count": 237,
   "metadata": {
    "collapsed": false
   },
   "outputs": [],
   "source": [
    "# Add unique identifiers to these datasets\n",
    "def add_unique_id(df,prefix=\"\"):\n",
    "    df[\"auto_generated_row_id\"] = 1\n",
    "    df[\"auto_generated_row_id\"] = df[\"auto_generated_row_id\"].cumsum()\n",
    "    df[\"auto_generated_row_id\"] = prefix + df[\"auto_generated_row_id\"].astype(str)\n",
    "    return df"
   ]
  },
  {
   "cell_type": "code",
   "execution_count": 238,
   "metadata": {
    "collapsed": false
   },
   "outputs": [],
   "source": [
    "df_candidate = add_unique_id(df_candidate, \"candidate_\")\n",
    "df_target = add_unique_id(df_target, \"target_\")"
   ]
  },
  {
   "cell_type": "code",
   "execution_count": 239,
   "metadata": {
    "collapsed": false
   },
   "outputs": [],
   "source": [
    "def concat_fields(df, drop_list = []):\n",
    "    \n",
    "    for r in df.iterrows():\n",
    "        index = r[0]\n",
    "        row = r[1]\n",
    "        \n",
    "        concats = []\n",
    "        \n",
    "        for k in row.keys():\n",
    "            if k not in drop_list:\n",
    "                if row[k] and not pd.isnull(row[k]):\n",
    "                    concats.append(str(row[k]))\n",
    "        \n",
    "        df.loc[index, \"concat_all\"] = \" \".join(concats)\n",
    "        \n",
    "    return df"
   ]
  },
  {
   "cell_type": "code",
   "execution_count": 240,
   "metadata": {
    "collapsed": false
   },
   "outputs": [],
   "source": [
    "df_target = concat_fields(df_target, drop_list=[\"code\",\"auto_generated_row_id\"])\n",
    "df_candidate = concat_fields(df_candidate, drop_list=[\"code\",\"auto_generated_row_id\"])"
   ]
  },
  {
   "cell_type": "code",
   "execution_count": 241,
   "metadata": {
    "collapsed": false
   },
   "outputs": [
    {
     "data": {
      "text/html": [
       "<div>\n",
       "<table border=\"1\" class=\"dataframe\">\n",
       "  <thead>\n",
       "    <tr style=\"text-align: right;\">\n",
       "      <th></th>\n",
       "      <th>gender</th>\n",
       "      <th>first_name</th>\n",
       "      <th>surname</th>\n",
       "      <th>city</th>\n",
       "      <th>code</th>\n",
       "      <th>year</th>\n",
       "      <th>month</th>\n",
       "      <th>day</th>\n",
       "      <th>first_name_dmetaphone</th>\n",
       "      <th>surname_dmetaphone</th>\n",
       "      <th>city_dmetaphone</th>\n",
       "      <th>auto_generated_row_id</th>\n",
       "      <th>concat_all</th>\n",
       "    </tr>\n",
       "  </thead>\n",
       "  <tbody>\n",
       "    <tr>\n",
       "      <th>0</th>\n",
       "      <td>Male</td>\n",
       "      <td>Matt</td>\n",
       "      <td>Hughes</td>\n",
       "      <td>Kirklees</td>\n",
       "      <td>a0f7d1e3def8a22d2708479d3e14a1e8</td>\n",
       "      <td>2003</td>\n",
       "      <td>Jun</td>\n",
       "      <td>11</td>\n",
       "      <td>MT</td>\n",
       "      <td>HS</td>\n",
       "      <td>KRKL</td>\n",
       "      <td>target_1</td>\n",
       "      <td>Male Matt Hughes Kirklees 2003 Jun 11 MT HS KRKL</td>\n",
       "    </tr>\n",
       "    <tr>\n",
       "      <th>1</th>\n",
       "      <td>Male</td>\n",
       "      <td>Tom</td>\n",
       "      <td>Brown</td>\n",
       "      <td>Birmingham</td>\n",
       "      <td>0bd7766ac3568d300d6c11e1369021e4</td>\n",
       "      <td>2006</td>\n",
       "      <td>Jan</td>\n",
       "      <td>19</td>\n",
       "      <td>TM</td>\n",
       "      <td>PRN</td>\n",
       "      <td>PRMN</td>\n",
       "      <td>target_2</td>\n",
       "      <td>Male Tom Brown Birmingham 2006 Jan 19 TM PRN PRMN</td>\n",
       "    </tr>\n",
       "    <tr>\n",
       "      <th>2</th>\n",
       "      <td>Male</td>\n",
       "      <td>Tom</td>\n",
       "      <td>Hughes</td>\n",
       "      <td>Bristol</td>\n",
       "      <td>12693dc197b8e29185c8c8fb847599fa</td>\n",
       "      <td>1997</td>\n",
       "      <td>Jun</td>\n",
       "      <td>21</td>\n",
       "      <td>TM</td>\n",
       "      <td>HS</td>\n",
       "      <td>PRST</td>\n",
       "      <td>target_3</td>\n",
       "      <td>Male Tom Hughes Bristol 1997 Jun 21 TM HS PRST</td>\n",
       "    </tr>\n",
       "    <tr>\n",
       "      <th>3</th>\n",
       "      <td>Male</td>\n",
       "      <td>Alex</td>\n",
       "      <td>Wilson</td>\n",
       "      <td>Birmingham</td>\n",
       "      <td>2ec6b298ee37161204f187e32a1981b0</td>\n",
       "      <td>2012</td>\n",
       "      <td>Jan</td>\n",
       "      <td>20</td>\n",
       "      <td>ALKS</td>\n",
       "      <td>ALSN</td>\n",
       "      <td>PRMN</td>\n",
       "      <td>target_4</td>\n",
       "      <td>Male Alex Wilson Birmingham 2012 Jan 20 ALKS A...</td>\n",
       "    </tr>\n",
       "    <tr>\n",
       "      <th>4</th>\n",
       "      <td>Male</td>\n",
       "      <td>John</td>\n",
       "      <td>Walker</td>\n",
       "      <td>Bradford</td>\n",
       "      <td>8be9a41303d2f52784d4c55a1561064a</td>\n",
       "      <td>1993</td>\n",
       "      <td>Sep</td>\n",
       "      <td>29</td>\n",
       "      <td>JN</td>\n",
       "      <td>ALKR</td>\n",
       "      <td>PRTF</td>\n",
       "      <td>target_5</td>\n",
       "      <td>Male John Walker Bradford 1993 Sep 29 JN ALKR ...</td>\n",
       "    </tr>\n",
       "  </tbody>\n",
       "</table>\n",
       "</div>"
      ],
      "text/plain": [
       "  gender first_name surname        city                              code  \\\n",
       "0   Male       Matt  Hughes    Kirklees  a0f7d1e3def8a22d2708479d3e14a1e8   \n",
       "1   Male        Tom   Brown  Birmingham  0bd7766ac3568d300d6c11e1369021e4   \n",
       "2   Male        Tom  Hughes     Bristol  12693dc197b8e29185c8c8fb847599fa   \n",
       "3   Male       Alex  Wilson  Birmingham  2ec6b298ee37161204f187e32a1981b0   \n",
       "4   Male       John  Walker    Bradford  8be9a41303d2f52784d4c55a1561064a   \n",
       "\n",
       "   year month day first_name_dmetaphone surname_dmetaphone city_dmetaphone  \\\n",
       "0  2003   Jun  11                    MT                 HS            KRKL   \n",
       "1  2006   Jan  19                    TM                PRN            PRMN   \n",
       "2  1997   Jun  21                    TM                 HS            PRST   \n",
       "3  2012   Jan  20                  ALKS               ALSN            PRMN   \n",
       "4  1993   Sep  29                    JN               ALKR            PRTF   \n",
       "\n",
       "  auto_generated_row_id                                         concat_all  \n",
       "0              target_1   Male Matt Hughes Kirklees 2003 Jun 11 MT HS KRKL  \n",
       "1              target_2  Male Tom Brown Birmingham 2006 Jan 19 TM PRN PRMN  \n",
       "2              target_3     Male Tom Hughes Bristol 1997 Jun 21 TM HS PRST  \n",
       "3              target_4  Male Alex Wilson Birmingham 2012 Jan 20 ALKS A...  \n",
       "4              target_5  Male John Walker Bradford 1993 Sep 29 JN ALKR ...  "
      ]
     },
     "execution_count": 241,
     "metadata": {},
     "output_type": "execute_result"
    }
   ],
   "source": [
    "df_target.head()"
   ]
  },
  {
   "cell_type": "code",
   "execution_count": 242,
   "metadata": {
    "collapsed": false
   },
   "outputs": [],
   "source": [
    "#Data for postgres\n",
    "df_target_for_db = df_target[[\"auto_generated_row_id\", \"concat_all\"]]\n",
    "df_candidate_for_db = df_candidate[[\"auto_generated_row_id\", \"concat_all\"]]"
   ]
  },
  {
   "cell_type": "code",
   "execution_count": 243,
   "metadata": {
    "collapsed": false
   },
   "outputs": [],
   "source": [
    "#Put in sqlite (do we actually need postgres for small tables?)\n",
    "import sqlite3"
   ]
  },
  {
   "cell_type": "code",
   "execution_count": 244,
   "metadata": {
    "collapsed": false
   },
   "outputs": [],
   "source": [
    "con = sqlite3.connect(\":memory:\") "
   ]
  },
  {
   "cell_type": "code",
   "execution_count": 245,
   "metadata": {
    "collapsed": true
   },
   "outputs": [],
   "source": [
    "from sqlalchemy import create_engine\n",
    "engine = create_engine('sqlite://') "
   ]
  },
  {
   "cell_type": "code",
   "execution_count": 246,
   "metadata": {
    "collapsed": false
   },
   "outputs": [],
   "source": [
    "con = engine.connect()"
   ]
  },
  {
   "cell_type": "code",
   "execution_count": 247,
   "metadata": {
    "collapsed": false
   },
   "outputs": [],
   "source": [
    "df_target_for_db.to_sql(\"target\", engine, index=False)"
   ]
  },
  {
   "cell_type": "code",
   "execution_count": 249,
   "metadata": {
    "collapsed": false
   },
   "outputs": [],
   "source": [
    "result = con.execute(\"CREATE VIRTUAL TABLE fts_target USING fts4(auto_generated_row_id TEXT, concat_all TEXT);\")"
   ]
  },
  {
   "cell_type": "code",
   "execution_count": 250,
   "metadata": {
    "collapsed": false
   },
   "outputs": [],
   "source": [
    "result = con.execute(\"INSERT INTO fts_target SELECT * FROM target\")"
   ]
  },
  {
   "cell_type": "code",
   "execution_count": 251,
   "metadata": {
    "collapsed": false
   },
   "outputs": [
    {
     "data": {
      "text/html": [
       "<div>\n",
       "<table border=\"1\" class=\"dataframe\">\n",
       "  <thead>\n",
       "    <tr style=\"text-align: right;\">\n",
       "      <th></th>\n",
       "      <th>auto_generated_row_id</th>\n",
       "      <th>concat_all</th>\n",
       "    </tr>\n",
       "  </thead>\n",
       "  <tbody>\n",
       "    <tr>\n",
       "      <th>0</th>\n",
       "      <td>target_1</td>\n",
       "      <td>Male Matt Hughes Kirklees 2003 Jun 11 MT HS KRKL</td>\n",
       "    </tr>\n",
       "    <tr>\n",
       "      <th>1</th>\n",
       "      <td>target_9</td>\n",
       "      <td>Male Matt Wright Leeds 2011 Sep 05 MT RT LTS</td>\n",
       "    </tr>\n",
       "    <tr>\n",
       "      <th>2</th>\n",
       "      <td>target_12</td>\n",
       "      <td>Male Matt Hughes Leeds 2000 Apr 22 MT HS LTS</td>\n",
       "    </tr>\n",
       "    <tr>\n",
       "      <th>3</th>\n",
       "      <td>target_14</td>\n",
       "      <td>Male Matt Robinson Fife 1995 Jun 08 MT RPNS FF</td>\n",
       "    </tr>\n",
       "    <tr>\n",
       "      <th>4</th>\n",
       "      <td>target_20</td>\n",
       "      <td>Male Matt Walker Bradford 1989 Feb 23 MT ALKR ...</td>\n",
       "    </tr>\n",
       "    <tr>\n",
       "      <th>5</th>\n",
       "      <td>target_23</td>\n",
       "      <td>Male Matt Evans Leeds 1995 Aug 24 MT AFNS LTS</td>\n",
       "    </tr>\n",
       "    <tr>\n",
       "      <th>6</th>\n",
       "      <td>target_25</td>\n",
       "      <td>Male Matt Hughes Bradford 2011 Feb 07 MT HS PRTF</td>\n",
       "    </tr>\n",
       "    <tr>\n",
       "      <th>7</th>\n",
       "      <td>target_33</td>\n",
       "      <td>Male Matt Wood Glasgow 2014 Aug 17 MT AT KLSK</td>\n",
       "    </tr>\n",
       "    <tr>\n",
       "      <th>8</th>\n",
       "      <td>target_47</td>\n",
       "      <td>Male Matt Walker Birmingham 1998 Mar 14 MT ALK...</td>\n",
       "    </tr>\n",
       "    <tr>\n",
       "      <th>9</th>\n",
       "      <td>target_60</td>\n",
       "      <td>Male Matt Martin Kirklees 2009 Apr 18 MT MRTN ...</td>\n",
       "    </tr>\n",
       "    <tr>\n",
       "      <th>10</th>\n",
       "      <td>target_63</td>\n",
       "      <td>Male Matt Jones Manchester 2014 Aug 04 MT JNS ...</td>\n",
       "    </tr>\n",
       "  </tbody>\n",
       "</table>\n",
       "</div>"
      ],
      "text/plain": [
       "   auto_generated_row_id                                         concat_all\n",
       "0               target_1   Male Matt Hughes Kirklees 2003 Jun 11 MT HS KRKL\n",
       "1               target_9       Male Matt Wright Leeds 2011 Sep 05 MT RT LTS\n",
       "2              target_12       Male Matt Hughes Leeds 2000 Apr 22 MT HS LTS\n",
       "3              target_14     Male Matt Robinson Fife 1995 Jun 08 MT RPNS FF\n",
       "4              target_20  Male Matt Walker Bradford 1989 Feb 23 MT ALKR ...\n",
       "5              target_23      Male Matt Evans Leeds 1995 Aug 24 MT AFNS LTS\n",
       "6              target_25   Male Matt Hughes Bradford 2011 Feb 07 MT HS PRTF\n",
       "7              target_33      Male Matt Wood Glasgow 2014 Aug 17 MT AT KLSK\n",
       "8              target_47  Male Matt Walker Birmingham 1998 Mar 14 MT ALK...\n",
       "9              target_60  Male Matt Martin Kirklees 2009 Apr 18 MT MRTN ...\n",
       "10             target_63  Male Matt Jones Manchester 2014 Aug 04 MT JNS ..."
      ]
     },
     "execution_count": 251,
     "metadata": {},
     "output_type": "execute_result"
    }
   ],
   "source": [
    "pd.read_sql(\"select * from fts_target where concat_all MATCH 'Matt'\", con)"
   ]
  },
  {
   "cell_type": "code",
   "execution_count": 252,
   "metadata": {
    "collapsed": false
   },
   "outputs": [
    {
     "data": {
      "text/plain": [
       "<sqlalchemy.engine.result.ResultProxy at 0x114612c90>"
      ]
     },
     "execution_count": 252,
     "metadata": {},
     "output_type": "execute_result"
    }
   ],
   "source": [
    "sql = \"\"\"\n",
    "create virtual table terms using fts4aux(fts_target);\n",
    "\n",
    "\"\"\"\n",
    "con.execute(sql)"
   ]
  },
  {
   "cell_type": "code",
   "execution_count": 271,
   "metadata": {
    "collapsed": false
   },
   "outputs": [],
   "source": [
    "from future_builtins import map  # Only on Python 2\n",
    "\n",
    "from collections import Counter\n",
    "from itertools import chain\n",
    "\n",
    "results = con.execute(\"select concat_all from target\")\n",
    "def row_to_str_split(r):\n",
    "    return r[0].split()\n",
    "\n",
    "freq_counts = Counter(chain.from_iterable(map(row_to_str_split, results)))\n",
    "total_token_count = sum(freq_counts.values())"
   ]
  },
  {
   "cell_type": "code",
   "execution_count": 273,
   "metadata": {
    "collapsed": false
   },
   "outputs": [
    {
     "data": {
      "text/plain": [
       "{u'01': 0.002,\n",
       " u'02': 0.004,\n",
       " u'04': 0.002,\n",
       " u'05': 0.007,\n",
       " u'06': 0.004,\n",
       " u'07': 0.003,\n",
       " u'08': 0.007,\n",
       " u'09': 0.003,\n",
       " u'10': 0.002,\n",
       " u'11': 0.002,\n",
       " u'12': 0.003,\n",
       " u'13': 0.003,\n",
       " u'14': 0.005,\n",
       " u'15': 0.001,\n",
       " u'16': 0.003,\n",
       " u'17': 0.007,\n",
       " u'18': 0.004,\n",
       " u'19': 0.003,\n",
       " u'1988': 0.006,\n",
       " u'1989': 0.003,\n",
       " u'1990': 0.002,\n",
       " u'1991': 0.001,\n",
       " u'1992': 0.003,\n",
       " u'1993': 0.003,\n",
       " u'1994': 0.004,\n",
       " u'1995': 0.006,\n",
       " u'1996': 0.001,\n",
       " u'1997': 0.004,\n",
       " u'1998': 0.003,\n",
       " u'1999': 0.001,\n",
       " u'20': 0.004,\n",
       " u'2000': 0.002,\n",
       " u'2001': 0.003,\n",
       " u'2002': 0.004,\n",
       " u'2003': 0.004,\n",
       " u'2004': 0.003,\n",
       " u'2005': 0.002,\n",
       " u'2006': 0.005,\n",
       " u'2007': 0.004,\n",
       " u'2008': 0.01,\n",
       " u'2009': 0.004,\n",
       " u'2010': 0.004,\n",
       " u'2011': 0.004,\n",
       " u'2012': 0.004,\n",
       " u'2013': 0.003,\n",
       " u'2014': 0.003,\n",
       " u'2015': 0.001,\n",
       " u'2016': 0.003,\n",
       " u'21': 0.005,\n",
       " u'22': 0.004,\n",
       " u'23': 0.002,\n",
       " u'24': 0.002,\n",
       " u'25': 0.001,\n",
       " u'26': 0.003,\n",
       " u'27': 0.004,\n",
       " u'28': 0.002,\n",
       " u'29': 0.003,\n",
       " u'30': 0.001,\n",
       " u'31': 0.004,\n",
       " u'AFNS': 0.007,\n",
       " u'ALFR': 0.012,\n",
       " u'ALKR': 0.009,\n",
       " u'ALKS': 0.01,\n",
       " u'ALMS': 0.006,\n",
       " u'ALSN': 0.007,\n",
       " u'AM': 0.002,\n",
       " u'AT': 0.003,\n",
       " u'ATNP': 0.002,\n",
       " u'ATRT': 0.006,\n",
       " u'Alex': 0.01,\n",
       " u'Apr': 0.012,\n",
       " u'Aug': 0.012,\n",
       " u'Birmingham': 0.007,\n",
       " u'Bradford': 0.01,\n",
       " u'Bristol': 0.005,\n",
       " u'Brown': 0.006,\n",
       " u'Chloe': 0.005,\n",
       " u'Davies': 0.004,\n",
       " u'Dec': 0.003,\n",
       " u'Edinburgh': 0.002,\n",
       " u'Edwards': 0.006,\n",
       " u'Emma': 0.002,\n",
       " u'Evans': 0.007,\n",
       " u'FF': 0.009,\n",
       " u'Feb': 0.007,\n",
       " u'Female': 0.02,\n",
       " u'Fife': 0.009,\n",
       " u'Glasgow': 0.012,\n",
       " u'Green': 0.002,\n",
       " u'HL': 0.002,\n",
       " u'HN': 0.005,\n",
       " u'HS': 0.005,\n",
       " u'Hall': 0.002,\n",
       " u'Hannah': 0.005,\n",
       " u'Hughes': 0.005,\n",
       " u'JMS': 0.01,\n",
       " u'JN': 0.011,\n",
       " u'JNS': 0.004,\n",
       " u'JNSN': 0.004,\n",
       " u'James': 0.01,\n",
       " u'Jan': 0.012,\n",
       " u'John': 0.011,\n",
       " u'Johnson': 0.004,\n",
       " u'Jones': 0.004,\n",
       " u'Jul': 0.01,\n",
       " u'Jun': 0.005,\n",
       " u'KL': 0.005,\n",
       " u'KLSK': 0.012,\n",
       " u'KRKL': 0.007,\n",
       " u'KRN': 0.002,\n",
       " u'KT': 0.003,\n",
       " u'Kate': 0.003,\n",
       " u'Kirklees': 0.007,\n",
       " u'LFRP': 0.006,\n",
       " u'LK': 0.01,\n",
       " u'LNTN': 0.01,\n",
       " u'LTS': 0.013,\n",
       " u'Leeds': 0.013,\n",
       " u'Liverpool': 0.006,\n",
       " u'London': 0.01,\n",
       " u'Luke': 0.01,\n",
       " u'MNXS': 0.008,\n",
       " u'MRTN': 0.003,\n",
       " u'MT': 0.011,\n",
       " u'Male': 0.08,\n",
       " u'Manchester': 0.008,\n",
       " u'Mar': 0.007,\n",
       " u'Martin': 0.003,\n",
       " u'Matt': 0.011,\n",
       " u'May': 0.009,\n",
       " u'Nov': 0.009,\n",
       " u'Oct': 0.01,\n",
       " u'Oliver': 0.012,\n",
       " u'PRMN': 0.007,\n",
       " u'PRN': 0.006,\n",
       " u'PRST': 0.005,\n",
       " u'PRTF': 0.01,\n",
       " u'RPK': 0.004,\n",
       " u'RPNS': 0.006,\n",
       " u'RPRT': 0.006,\n",
       " u'RT': 0.005,\n",
       " u'Rebecca': 0.004,\n",
       " u'Roberts': 0.006,\n",
       " u'Robinson': 0.006,\n",
       " u'SF': 0.001,\n",
       " u'SM0': 0.009,\n",
       " u'Sep': 0.004,\n",
       " u'Sheffield': 0.011,\n",
       " u'Smith': 0.009,\n",
       " u'Sophie': 0.001,\n",
       " u'TFS': 0.004,\n",
       " u'TLR': 0.003,\n",
       " u'TM': 0.016,\n",
       " u'TMS': 0.003,\n",
       " u'Taylor': 0.003,\n",
       " u'Thomas': 0.003,\n",
       " u'Tom': 0.016,\n",
       " u'Walker': 0.009,\n",
       " u'White': 0.001,\n",
       " u'Williams': 0.006,\n",
       " u'Wilson': 0.007,\n",
       " u'Wood': 0.002,\n",
       " u'Wright': 0.005,\n",
       " u'XFLT': 0.011}"
      ]
     },
     "execution_count": 273,
     "metadata": {},
     "output_type": "execute_result"
    }
   ],
   "source": [
    "{k: freq_counts[k]*1.0/total_token_count for k in freq_counts}"
   ]
  },
  {
   "cell_type": "code",
   "execution_count": 263,
   "metadata": {
    "collapsed": false
   },
   "outputs": [
    {
     "data": {
      "text/plain": [
       "1000"
      ]
     },
     "execution_count": 263,
     "metadata": {},
     "output_type": "execute_result"
    }
   ],
   "source": [
    "sum(freq_counts.values())"
   ]
  },
  {
   "cell_type": "code",
   "execution_count": 264,
   "metadata": {
    "collapsed": false
   },
   "outputs": [
    {
     "data": {
      "text/plain": [
       "[11,\n",
       " 9,\n",
       " 7,\n",
       " 12,\n",
       " 11,\n",
       " 5,\n",
       " 1,\n",
       " 10,\n",
       " 5,\n",
       " 6,\n",
       " 3,\n",
       " 4,\n",
       " 4,\n",
       " 5,\n",
       " 4,\n",
       " 2,\n",
       " 7,\n",
       " 6,\n",
       " 2,\n",
       " 3,\n",
       " 12,\n",
       " 1,\n",
       " 3,\n",
       " 9,\n",
       " 3,\n",
       " 4,\n",
       " 4,\n",
       " 7,\n",
       " 4,\n",
       " 1,\n",
       " 2,\n",
       " 10,\n",
       " 3,\n",
       " 6,\n",
       " 3,\n",
       " 1,\n",
       " 4,\n",
       " 4,\n",
       " 3,\n",
       " 6,\n",
       " 9,\n",
       " 7,\n",
       " 3,\n",
       " 1,\n",
       " 8,\n",
       " 20,\n",
       " 6,\n",
       " 3,\n",
       " 5,\n",
       " 5,\n",
       " 5,\n",
       " 2,\n",
       " 11,\n",
       " 4,\n",
       " 2,\n",
       " 11,\n",
       " 2,\n",
       " 4,\n",
       " 3,\n",
       " 2,\n",
       " 7,\n",
       " 11,\n",
       " 7,\n",
       " 3,\n",
       " 6,\n",
       " 13,\n",
       " 10,\n",
       " 2,\n",
       " 2,\n",
       " 4,\n",
       " 1,\n",
       " 6,\n",
       " 6,\n",
       " 7,\n",
       " 80,\n",
       " 3,\n",
       " 7,\n",
       " 12,\n",
       " 4,\n",
       " 1,\n",
       " 11,\n",
       " 2,\n",
       " 8,\n",
       " 3,\n",
       " 7,\n",
       " 12,\n",
       " 7,\n",
       " 6,\n",
       " 9,\n",
       " 16,\n",
       " 1,\n",
       " 5,\n",
       " 10,\n",
       " 3,\n",
       " 4,\n",
       " 13,\n",
       " 3,\n",
       " 10,\n",
       " 6,\n",
       " 12,\n",
       " 9,\n",
       " 3,\n",
       " 3,\n",
       " 2,\n",
       " 2,\n",
       " 3,\n",
       " 3,\n",
       " 6,\n",
       " 5,\n",
       " 4,\n",
       " 4,\n",
       " 3,\n",
       " 4,\n",
       " 5,\n",
       " 9,\n",
       " 7,\n",
       " 3,\n",
       " 3,\n",
       " 1,\n",
       " 10,\n",
       " 12,\n",
       " 5,\n",
       " 2,\n",
       " 6,\n",
       " 5,\n",
       " 2,\n",
       " 12,\n",
       " 6,\n",
       " 7,\n",
       " 9,\n",
       " 10,\n",
       " 10,\n",
       " 7,\n",
       " 16,\n",
       " 10,\n",
       " 2,\n",
       " 4,\n",
       " 2,\n",
       " 4,\n",
       " 5,\n",
       " 10,\n",
       " 2,\n",
       " 2,\n",
       " 4,\n",
       " 3,\n",
       " 5,\n",
       " 3,\n",
       " 1,\n",
       " 9,\n",
       " 10,\n",
       " 3,\n",
       " 4,\n",
       " 4,\n",
       " 2,\n",
       " 3,\n",
       " 5,\n",
       " 4,\n",
       " 3,\n",
       " 10,\n",
       " 4,\n",
       " 10,\n",
       " 4,\n",
       " 6,\n",
       " 4]"
      ]
     },
     "execution_count": 264,
     "metadata": {},
     "output_type": "execute_result"
    }
   ],
   "source": [
    "freq_counts.values()"
   ]
  },
  {
   "cell_type": "code",
   "execution_count": null,
   "metadata": {
    "collapsed": true
   },
   "outputs": [],
   "source": []
  }
 ],
 "metadata": {
  "kernelspec": {
   "display_name": "Python 2",
   "language": "python",
   "name": "python2"
  },
  "language_info": {
   "codemirror_mode": {
    "name": "ipython",
    "version": 2
   },
   "file_extension": ".py",
   "mimetype": "text/x-python",
   "name": "python",
   "nbconvert_exporter": "python",
   "pygments_lexer": "ipython2",
   "version": "2.7.11"
  }
 },
 "nbformat": 4,
 "nbformat_minor": 0
}
