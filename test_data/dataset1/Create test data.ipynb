{
 "cells": [
  {
   "cell_type": "code",
   "execution_count": 1,
   "metadata": {
    "collapsed": true
   },
   "outputs": [],
   "source": [
    "num_elements = 100"
   ]
  },
  {
   "cell_type": "code",
   "execution_count": 2,
   "metadata": {
    "collapsed": false
   },
   "outputs": [],
   "source": [
    "import pandas as pd\n",
    "from faker import Faker\n",
    "fake = Faker()"
   ]
  },
  {
   "cell_type": "code",
   "execution_count": 3,
   "metadata": {
    "collapsed": false
   },
   "outputs": [],
   "source": [
    "import numpy as np\n",
    "elements = np.array([\"John\", \"James\", \"Alex\", \"Oliver\", \"Matt\", \"Tom\", \"Luke\"])\n",
    "probabilites = np.array([0.4,0.2,0.1,0.1,0.1,0.05,0.05])\n",
    "male_first_names = np.random.choice(elements, int(num_elements*0.8), list(probabilites))\n",
    "males = male_first_names.copy()\n",
    "males[:] = \"Male\"\n",
    "\n",
    "elements = np.array([\"Emily\", \"Emma\", \"Sophie\", \"Hannah\", \"Kate\", \"Rebecca\", \"Chloe\"])\n",
    "female_first_names = np.random.choice(elements, int(num_elements*0.2), list(probabilites))\n",
    "females = female_first_names.copy()\n",
    "females[:] = \"Female\"\n",
    "\n",
    "first_names = np.concatenate([male_first_names, female_first_names])\n",
    "\n",
    "genders = np.concatenate([males,females])"
   ]
  },
  {
   "cell_type": "code",
   "execution_count": 4,
   "metadata": {
    "collapsed": false
   },
   "outputs": [],
   "source": [
    "elements = np.array([\"Smith\",\n",
    "\"Jones\",\n",
    "\"Williams\",\n",
    "\"Brown\",\n",
    "\"Taylor\",\n",
    "\"Davies\",\n",
    "\"Wilson\",\n",
    "\"Evans\",\n",
    "\"Thomas\",\n",
    "\"Johnson\",\n",
    "\"Roberts\",\n",
    "\"Walker\",\n",
    "\"Wright\",\n",
    "\"Thompson\",\n",
    "\"Robinson\",\n",
    "\"White\",\n",
    "\"Hughes\",\n",
    "\"Edwards\",\n",
    "\"Hall\",\n",
    "\"Green\",\n",
    "\"Martin\",\n",
    "\"Wood\"])\n",
    "surnames = np.random.choice(elements, num_elements)"
   ]
  },
  {
   "cell_type": "code",
   "execution_count": 5,
   "metadata": {
    "collapsed": true
   },
   "outputs": [],
   "source": [
    "elements = np.array([\"London\",\n",
    "\"Birmingham\",\n",
    "\"Leeds\",\n",
    "\"Glasgow\",\n",
    "\"Sheffield\",\n",
    "\"Bradford\",\n",
    "\"Liverpool\",\n",
    "\"Edinburgh\",\n",
    "\"Manchester\",\n",
    "\"Bristol\",\n",
    "\"Kirklees\",\n",
    "\"Fife\"])\n",
    "cities = np.random.choice(elements, num_elements)"
   ]
  },
  {
   "cell_type": "code",
   "execution_count": 6,
   "metadata": {
    "collapsed": false
   },
   "outputs": [],
   "source": [
    "target_dataset = pd.DataFrame([genders, first_names, surnames, cities]).T\n",
    "target_dataset.columns = [\"gender\", \"first_name\", \"surname\", \"city\"]"
   ]
  },
  {
   "cell_type": "code",
   "execution_count": 7,
   "metadata": {
    "collapsed": false
   },
   "outputs": [],
   "source": [
    "for r in target_dataset.iterrows():\n",
    "    index = r[0]\n",
    "    target_dataset.loc[index,\"dob\"] =  fake.date_time_between(start_date=\"-30y\", end_date=\"now\", tzinfo=None).strftime(\"%Y-%b-%d\")\n",
    "    target_dataset.loc[index,\"code\"] = fake.md5()"
   ]
  },
  {
   "cell_type": "code",
   "execution_count": 8,
   "metadata": {
    "collapsed": false
   },
   "outputs": [
    {
     "data": {
      "text/html": [
       "<div>\n",
       "<table border=\"1\" class=\"dataframe\">\n",
       "  <thead>\n",
       "    <tr style=\"text-align: right;\">\n",
       "      <th></th>\n",
       "      <th>gender</th>\n",
       "      <th>first_name</th>\n",
       "      <th>surname</th>\n",
       "      <th>city</th>\n",
       "      <th>dob</th>\n",
       "      <th>code</th>\n",
       "    </tr>\n",
       "  </thead>\n",
       "  <tbody>\n",
       "    <tr>\n",
       "      <th>0</th>\n",
       "      <td>Male</td>\n",
       "      <td>Alex</td>\n",
       "      <td>Wright</td>\n",
       "      <td>Edinburgh</td>\n",
       "      <td>2003-May-16</td>\n",
       "      <td>daec4bd1f44b36fd66992221c7ebd40d</td>\n",
       "    </tr>\n",
       "    <tr>\n",
       "      <th>1</th>\n",
       "      <td>Male</td>\n",
       "      <td>Oliver</td>\n",
       "      <td>Hughes</td>\n",
       "      <td>Leeds</td>\n",
       "      <td>2000-Jun-15</td>\n",
       "      <td>d000ef00067505bade11a055cec38c67</td>\n",
       "    </tr>\n",
       "    <tr>\n",
       "      <th>2</th>\n",
       "      <td>Male</td>\n",
       "      <td>Matt</td>\n",
       "      <td>Thompson</td>\n",
       "      <td>Bristol</td>\n",
       "      <td>1986-Oct-27</td>\n",
       "      <td>23ffae4d943bdd340a81f4e7b3aaec62</td>\n",
       "    </tr>\n",
       "    <tr>\n",
       "      <th>3</th>\n",
       "      <td>Male</td>\n",
       "      <td>Alex</td>\n",
       "      <td>Evans</td>\n",
       "      <td>Glasgow</td>\n",
       "      <td>2009-Jun-23</td>\n",
       "      <td>9b837b1ada9dc6129f799bd718292c98</td>\n",
       "    </tr>\n",
       "    <tr>\n",
       "      <th>4</th>\n",
       "      <td>Male</td>\n",
       "      <td>Alex</td>\n",
       "      <td>Green</td>\n",
       "      <td>Kirklees</td>\n",
       "      <td>1988-Feb-01</td>\n",
       "      <td>80972206fa6c585f22090d7f19f5d310</td>\n",
       "    </tr>\n",
       "  </tbody>\n",
       "</table>\n",
       "</div>"
      ],
      "text/plain": [
       "  gender first_name   surname       city          dob  \\\n",
       "0   Male       Alex    Wright  Edinburgh  2003-May-16   \n",
       "1   Male     Oliver    Hughes      Leeds  2000-Jun-15   \n",
       "2   Male       Matt  Thompson    Bristol  1986-Oct-27   \n",
       "3   Male       Alex     Evans    Glasgow  2009-Jun-23   \n",
       "4   Male       Alex     Green   Kirklees  1988-Feb-01   \n",
       "\n",
       "                               code  \n",
       "0  daec4bd1f44b36fd66992221c7ebd40d  \n",
       "1  d000ef00067505bade11a055cec38c67  \n",
       "2  23ffae4d943bdd340a81f4e7b3aaec62  \n",
       "3  9b837b1ada9dc6129f799bd718292c98  \n",
       "4  80972206fa6c585f22090d7f19f5d310  "
      ]
     },
     "execution_count": 8,
     "metadata": {},
     "output_type": "execute_result"
    }
   ],
   "source": [
    "target_dataset.head()"
   ]
  },
  {
   "cell_type": "code",
   "execution_count": 9,
   "metadata": {
    "collapsed": false
   },
   "outputs": [
    {
     "data": {
      "text/html": [
       "<div>\n",
       "<table border=\"1\" class=\"dataframe\">\n",
       "  <thead>\n",
       "    <tr style=\"text-align: right;\">\n",
       "      <th></th>\n",
       "      <th>gender</th>\n",
       "      <th>first_name</th>\n",
       "      <th>surname</th>\n",
       "      <th>city</th>\n",
       "      <th>code</th>\n",
       "      <th>year</th>\n",
       "      <th>month</th>\n",
       "      <th>day</th>\n",
       "    </tr>\n",
       "  </thead>\n",
       "  <tbody>\n",
       "    <tr>\n",
       "      <th>0</th>\n",
       "      <td>Male</td>\n",
       "      <td>Alex</td>\n",
       "      <td>Wright</td>\n",
       "      <td>Edinburgh</td>\n",
       "      <td>daec4bd1f44b36fd66992221c7ebd40d</td>\n",
       "      <td>2003</td>\n",
       "      <td>May</td>\n",
       "      <td>16</td>\n",
       "    </tr>\n",
       "    <tr>\n",
       "      <th>1</th>\n",
       "      <td>Male</td>\n",
       "      <td>Oliver</td>\n",
       "      <td>Hughes</td>\n",
       "      <td>Leeds</td>\n",
       "      <td>d000ef00067505bade11a055cec38c67</td>\n",
       "      <td>2000</td>\n",
       "      <td>Jun</td>\n",
       "      <td>15</td>\n",
       "    </tr>\n",
       "    <tr>\n",
       "      <th>2</th>\n",
       "      <td>Male</td>\n",
       "      <td>Matt</td>\n",
       "      <td>Thompson</td>\n",
       "      <td>Bristol</td>\n",
       "      <td>23ffae4d943bdd340a81f4e7b3aaec62</td>\n",
       "      <td>1986</td>\n",
       "      <td>Oct</td>\n",
       "      <td>27</td>\n",
       "    </tr>\n",
       "    <tr>\n",
       "      <th>3</th>\n",
       "      <td>Male</td>\n",
       "      <td>Alex</td>\n",
       "      <td>Evans</td>\n",
       "      <td>Glasgow</td>\n",
       "      <td>9b837b1ada9dc6129f799bd718292c98</td>\n",
       "      <td>2009</td>\n",
       "      <td>Jun</td>\n",
       "      <td>23</td>\n",
       "    </tr>\n",
       "    <tr>\n",
       "      <th>4</th>\n",
       "      <td>Male</td>\n",
       "      <td>Alex</td>\n",
       "      <td>Green</td>\n",
       "      <td>Kirklees</td>\n",
       "      <td>80972206fa6c585f22090d7f19f5d310</td>\n",
       "      <td>1988</td>\n",
       "      <td>Feb</td>\n",
       "      <td>01</td>\n",
       "    </tr>\n",
       "  </tbody>\n",
       "</table>\n",
       "</div>"
      ],
      "text/plain": [
       "  gender first_name   surname       city                              code  \\\n",
       "0   Male       Alex    Wright  Edinburgh  daec4bd1f44b36fd66992221c7ebd40d   \n",
       "1   Male     Oliver    Hughes      Leeds  d000ef00067505bade11a055cec38c67   \n",
       "2   Male       Matt  Thompson    Bristol  23ffae4d943bdd340a81f4e7b3aaec62   \n",
       "3   Male       Alex     Evans    Glasgow  9b837b1ada9dc6129f799bd718292c98   \n",
       "4   Male       Alex     Green   Kirklees  80972206fa6c585f22090d7f19f5d310   \n",
       "\n",
       "   year month day  \n",
       "0  2003   May  16  \n",
       "1  2000   Jun  15  \n",
       "2  1986   Oct  27  \n",
       "3  2009   Jun  23  \n",
       "4  1988   Feb  01  "
      ]
     },
     "execution_count": 9,
     "metadata": {},
     "output_type": "execute_result"
    }
   ],
   "source": [
    "target_dataset = target_dataset.join(target_dataset.dob.str.split(\"-\",expand=True))\n",
    "target_dataset = target_dataset.rename(columns={0:\"year\", 1:\"month\", 2:\"day\"})\n",
    "target_dataset = target_dataset.drop(\"dob\", axis=1)\n",
    "target_dataset.head()"
   ]
  },
  {
   "cell_type": "code",
   "execution_count": 10,
   "metadata": {
    "collapsed": true
   },
   "outputs": [],
   "source": [
    "# Now we need to create a corrupted version of this for matching\n",
    "candidate_dataset = target_dataset.sample(frac=0.8,replace=False).copy()"
   ]
  },
  {
   "cell_type": "code",
   "execution_count": 11,
   "metadata": {
    "collapsed": false
   },
   "outputs": [
    {
     "data": {
      "text/html": [
       "<div>\n",
       "<table border=\"1\" class=\"dataframe\">\n",
       "  <thead>\n",
       "    <tr style=\"text-align: right;\">\n",
       "      <th></th>\n",
       "      <th>gender</th>\n",
       "      <th>first_name</th>\n",
       "      <th>surname</th>\n",
       "      <th>city</th>\n",
       "      <th>code</th>\n",
       "      <th>year</th>\n",
       "      <th>month</th>\n",
       "      <th>day</th>\n",
       "    </tr>\n",
       "  </thead>\n",
       "  <tbody>\n",
       "    <tr>\n",
       "      <th>54</th>\n",
       "      <td>Male</td>\n",
       "      <td>Matt</td>\n",
       "      <td>Evans</td>\n",
       "      <td>Leeds</td>\n",
       "      <td>e354be655f29a2fcad1ca05dedf653f9</td>\n",
       "      <td>2004</td>\n",
       "      <td>Nov</td>\n",
       "      <td>13</td>\n",
       "    </tr>\n",
       "    <tr>\n",
       "      <th>75</th>\n",
       "      <td>Male</td>\n",
       "      <td>John</td>\n",
       "      <td>Green</td>\n",
       "      <td>Birmingham</td>\n",
       "      <td>8b2e048dd457fe93d442e735abf22df8</td>\n",
       "      <td>1987</td>\n",
       "      <td>Oct</td>\n",
       "      <td>30</td>\n",
       "    </tr>\n",
       "    <tr>\n",
       "      <th>88</th>\n",
       "      <td>Female</td>\n",
       "      <td>Emily</td>\n",
       "      <td>Green</td>\n",
       "      <td>Liverpool</td>\n",
       "      <td>3ac9302bddfb4d222acc672eb6c3eb25</td>\n",
       "      <td>2008</td>\n",
       "      <td>Jun</td>\n",
       "      <td>12</td>\n",
       "    </tr>\n",
       "    <tr>\n",
       "      <th>35</th>\n",
       "      <td>Male</td>\n",
       "      <td>John</td>\n",
       "      <td>Thompson</td>\n",
       "      <td>Birmingham</td>\n",
       "      <td>98182e6f9e70c6762d781f832a553b88</td>\n",
       "      <td>1999</td>\n",
       "      <td>Sep</td>\n",
       "      <td>03</td>\n",
       "    </tr>\n",
       "    <tr>\n",
       "      <th>17</th>\n",
       "      <td>Male</td>\n",
       "      <td>Alex</td>\n",
       "      <td>Brown</td>\n",
       "      <td>Bradford</td>\n",
       "      <td>ccd8004da51b3d5c4d3db37802cb5983</td>\n",
       "      <td>2015</td>\n",
       "      <td>May</td>\n",
       "      <td>07</td>\n",
       "    </tr>\n",
       "  </tbody>\n",
       "</table>\n",
       "</div>"
      ],
      "text/plain": [
       "    gender first_name   surname        city                              code  \\\n",
       "54    Male       Matt     Evans       Leeds  e354be655f29a2fcad1ca05dedf653f9   \n",
       "75    Male       John     Green  Birmingham  8b2e048dd457fe93d442e735abf22df8   \n",
       "88  Female      Emily     Green   Liverpool  3ac9302bddfb4d222acc672eb6c3eb25   \n",
       "35    Male       John  Thompson  Birmingham  98182e6f9e70c6762d781f832a553b88   \n",
       "17    Male       Alex     Brown    Bradford  ccd8004da51b3d5c4d3db37802cb5983   \n",
       "\n",
       "    year month day  \n",
       "54  2004   Nov  13  \n",
       "75  1987   Oct  30  \n",
       "88  2008   Jun  12  \n",
       "35  1999   Sep  03  \n",
       "17  2015   May  07  "
      ]
     },
     "execution_count": 11,
     "metadata": {},
     "output_type": "execute_result"
    }
   ],
   "source": [
    "candidate_dataset.head()"
   ]
  },
  {
   "cell_type": "code",
   "execution_count": 12,
   "metadata": {
    "collapsed": false
   },
   "outputs": [],
   "source": [
    "import random\n",
    "import string\n",
    "\n",
    "\n",
    "def switch(my_string):\n",
    "    pos1 = random.randrange(0,len(my_string)) \n",
    "    pos2 = random.randrange(0,len(my_string)) \n",
    "    my_string = list(my_string)\n",
    "    char1 = my_string[pos1]\n",
    "    char2 = my_string[pos2]\n",
    "    my_string[pos1] = char2\n",
    "    my_string[pos2] = char1\n",
    "    return \"\".join(my_string)\n",
    "\n",
    "def new_letter(my_string):\n",
    "    pos1 = random.randrange(0,len(my_string)) \n",
    "    letter = random.choice(string.ascii_lowercase)\n",
    "    return my_string[:pos1] + letter + my_string[pos1:]\n",
    "\n",
    "def delete_letter(my_string):\n",
    "    pos1 = random.randrange(1,len(my_string)) \n",
    "    return my_string[:pos1] + my_string[pos1+1:]\n",
    "\n",
    "def corrupt_string(my_string, num_switches=1,num_new_letters=0,num_deletes=0):\n",
    "    \n",
    "    for i in range(num_switches):\n",
    "        my_string = switch(my_string)\n",
    "        \n",
    "    for i in range(num_new_letters):\n",
    "        my_string = new_letter(my_string)\n",
    "        \n",
    "    for i in range(num_deletes):\n",
    "        my_string = delete_letter(my_string)\n",
    "        \n",
    "    return my_string"
   ]
  },
  {
   "cell_type": "code",
   "execution_count": 13,
   "metadata": {
    "collapsed": false
   },
   "outputs": [],
   "source": [
    "for r in candidate_dataset.iterrows():\n",
    "    index = r[0]\n",
    "    row = r[1]\n",
    "    \n",
    "    if (random.random()>0.9):\n",
    "        candidate_dataset.loc[index, \"first_name\"] = corrupt_string(row[\"first_name\"])\n",
    "    \n",
    "    if (random.random()>0.9):\n",
    "        candidate_dataset.loc[index, \"surname\"] = corrupt_string(row[\"surname\"], num_switches=0, num_deletes=1)\n",
    "        \n",
    "    if (random.random()>0.9):\n",
    "        candidate_dataset.loc[index, \"city\"] = corrupt_string(row[\"city\"], num_switches=0, num_deletes=1)\n",
    "        \n",
    "    if (random.random()>0.9):\n",
    "        surname = row[\"surname\"]\n",
    "        first_name = row[\"first_name\"]\n",
    "        candidate_dataset.loc[index, \"first_name\"] = surname\n",
    "        candidate_dataset.loc[index, \"surname\"] = first_name\n",
    "        \n",
    "    if (random.random()>0.9):\n",
    "        candidate_dataset.loc[index,\"year\"] = fake.date_time_between(start_date=\"-30y\", end_date=\"now\", tzinfo=None).strftime(\"%Y\")\n",
    "        \n",
    "    if (random.random()>0.9):\n",
    "        candidate_dataset.loc[index,\"day\"] = fake.date_time_between(start_date=\"-30y\", end_date=\"now\", tzinfo=None).strftime(\"%d\")\n",
    "    \n",
    "    if (random.random()>0.8):\n",
    "        candidate_dataset.loc[index, \"gender\"] = None\n",
    "        \n",
    "    if (random.random()>0.8):\n",
    "        candidate_dataset.loc[index, \"first_name\"] = None\n",
    "        \n",
    "    if (random.random()>0.8):\n",
    "        candidate_dataset.loc[index, \"surname\"] = None\n",
    "        \n",
    "    if (random.random()>0.8):\n",
    "        candidate_dataset.loc[index, \"year\"] = None\n",
    "        \n",
    "    if (random.random()>0.8):\n",
    "        candidate_dataset.loc[index, \"month\"] = None\n",
    "        \n",
    "    if (random.random()>0.8):\n",
    "        candidate_dataset.loc[index, \"day\"] = None\n",
    "        \n",
    "\n",
    "        "
   ]
  },
  {
   "cell_type": "code",
   "execution_count": 14,
   "metadata": {
    "collapsed": false
   },
   "outputs": [],
   "source": [
    "target_dataset.to_csv(\"target_dataset.csv\", encoding=\"utf-8\", index=False)"
   ]
  },
  {
   "cell_type": "code",
   "execution_count": 15,
   "metadata": {
    "collapsed": false
   },
   "outputs": [],
   "source": [
    "candidate_dataset.to_csv(\"candidate_dataset.csv\", encoding=\"utf-8\", index=False)"
   ]
  },
  {
   "cell_type": "code",
   "execution_count": null,
   "metadata": {
    "collapsed": true
   },
   "outputs": [],
   "source": []
  }
 ],
 "metadata": {
  "kernelspec": {
   "display_name": "Python [Root]",
   "language": "python",
   "name": "Python [Root]"
  },
  "language_info": {
   "codemirror_mode": {
    "name": "ipython",
    "version": 2
   },
   "file_extension": ".py",
   "mimetype": "text/x-python",
   "name": "python",
   "nbconvert_exporter": "python",
   "pygments_lexer": "ipython2",
   "version": "2.7.12"
  }
 },
 "nbformat": 4,
 "nbformat_minor": 0
}
