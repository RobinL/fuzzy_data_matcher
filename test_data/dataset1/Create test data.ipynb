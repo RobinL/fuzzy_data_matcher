{
 "cells": [
  {
   "cell_type": "code",
   "execution_count": 1,
   "metadata": {
    "collapsed": true
   },
   "outputs": [],
   "source": [
    "num_elements = 100"
   ]
  },
  {
   "cell_type": "code",
   "execution_count": 2,
   "metadata": {
    "collapsed": true
   },
   "outputs": [],
   "source": [
    "import pandas as pd\n",
    "from faker import Faker\n",
    "fake = Faker()"
   ]
  },
  {
   "cell_type": "code",
   "execution_count": 3,
   "metadata": {
    "collapsed": false
   },
   "outputs": [],
   "source": [
    "import numpy as np\n",
    "elements = np.array([\"John\", \"James\", \"Alex\", \"Oliver\", \"Matt\", \"Tom\", \"Luke\"])\n",
    "probabilites = np.array([0.4,0.2,0.1,0.1,0.1,0.05,0.05])\n",
    "male_first_names = np.random.choice(elements, int(num_elements*0.8), list(probabilites))\n",
    "males = male_first_names.copy()\n",
    "males[:] = \"Male\"\n",
    "\n",
    "elements = np.array([\"Emily\", \"Emma\", \"Sophie\", \"Hannah\", \"Kate\", \"Rebecca\", \"Chloe\"])\n",
    "female_first_names = np.random.choice(elements, int(num_elements*0.2), list(probabilites))\n",
    "females = female_first_names.copy()\n",
    "females[:] = \"Female\"\n",
    "\n",
    "first_names = np.concatenate([male_first_names, female_first_names])\n",
    "\n",
    "genders = np.concatenate([males,females])"
   ]
  },
  {
   "cell_type": "code",
   "execution_count": 4,
   "metadata": {
    "collapsed": false
   },
   "outputs": [],
   "source": [
    "elements = np.array([\"Smith\",\n",
    "\"Jones\",\n",
    "\"Williams\",\n",
    "\"Brown\",\n",
    "\"Taylor\",\n",
    "\"Davies\",\n",
    "\"Wilson\",\n",
    "\"Evans\",\n",
    "\"Thomas\",\n",
    "\"Johnson\",\n",
    "\"Roberts\",\n",
    "\"Walker\",\n",
    "\"Wright\",\n",
    "\"Thompson\",\n",
    "\"Robinson\",\n",
    "\"White\",\n",
    "\"Hughes\",\n",
    "\"Edwards\",\n",
    "\"Hall\",\n",
    "\"Green\",\n",
    "\"Martin\",\n",
    "\"Wood\"])\n",
    "surnames = np.random.choice(elements, num_elements)"
   ]
  },
  {
   "cell_type": "code",
   "execution_count": 5,
   "metadata": {
    "collapsed": true
   },
   "outputs": [],
   "source": [
    "elements = np.array([\"London\",\n",
    "\"Birmingham\",\n",
    "\"Leeds\",\n",
    "\"Glasgow\",\n",
    "\"Sheffield\",\n",
    "\"Bradford\",\n",
    "\"Liverpool\",\n",
    "\"Edinburgh\",\n",
    "\"Manchester\",\n",
    "\"Bristol\",\n",
    "\"Kirklees\",\n",
    "\"Fife\"])\n",
    "cities = np.random.choice(elements, num_elements)"
   ]
  },
  {
   "cell_type": "code",
   "execution_count": 6,
   "metadata": {
    "collapsed": false
   },
   "outputs": [],
   "source": [
    "target_dataset = pd.DataFrame([genders, first_names, surnames, cities]).T\n",
    "target_dataset.columns = [\"gender\", \"first_name\", \"surname\", \"city\"]"
   ]
  },
  {
   "cell_type": "code",
   "execution_count": 7,
   "metadata": {
    "collapsed": false
   },
   "outputs": [],
   "source": [
    "for r in target_dataset.iterrows():\n",
    "    index = r[0]\n",
    "    target_dataset.loc[index,\"dob\"] =  fake.date_time_between(start_date=\"-30y\", end_date=\"now\", tzinfo=None).strftime(\"%Y-%b-%d\")\n",
    "    target_dataset.loc[index,\"code\"] = fake.md5()"
   ]
  },
  {
   "cell_type": "code",
   "execution_count": 8,
   "metadata": {
    "collapsed": false
   },
   "outputs": [
    {
     "data": {
      "text/html": [
       "<div>\n",
       "<table border=\"1\" class=\"dataframe\">\n",
       "  <thead>\n",
       "    <tr style=\"text-align: right;\">\n",
       "      <th></th>\n",
       "      <th>gender</th>\n",
       "      <th>first_name</th>\n",
       "      <th>surname</th>\n",
       "      <th>city</th>\n",
       "      <th>dob</th>\n",
       "      <th>code</th>\n",
       "    </tr>\n",
       "  </thead>\n",
       "  <tbody>\n",
       "    <tr>\n",
       "      <th>0</th>\n",
       "      <td>Male</td>\n",
       "      <td>Matt</td>\n",
       "      <td>Hughes</td>\n",
       "      <td>Kirklees</td>\n",
       "      <td>2003-Jun-11</td>\n",
       "      <td>a0f7d1e3def8a22d2708479d3e14a1e8</td>\n",
       "    </tr>\n",
       "    <tr>\n",
       "      <th>1</th>\n",
       "      <td>Male</td>\n",
       "      <td>Tom</td>\n",
       "      <td>Brown</td>\n",
       "      <td>Birmingham</td>\n",
       "      <td>2006-Jan-19</td>\n",
       "      <td>0bd7766ac3568d300d6c11e1369021e4</td>\n",
       "    </tr>\n",
       "    <tr>\n",
       "      <th>2</th>\n",
       "      <td>Male</td>\n",
       "      <td>Tom</td>\n",
       "      <td>Hughes</td>\n",
       "      <td>Bristol</td>\n",
       "      <td>1997-Jun-21</td>\n",
       "      <td>12693dc197b8e29185c8c8fb847599fa</td>\n",
       "    </tr>\n",
       "    <tr>\n",
       "      <th>3</th>\n",
       "      <td>Male</td>\n",
       "      <td>Alex</td>\n",
       "      <td>Wilson</td>\n",
       "      <td>Birmingham</td>\n",
       "      <td>2012-Jan-20</td>\n",
       "      <td>2ec6b298ee37161204f187e32a1981b0</td>\n",
       "    </tr>\n",
       "    <tr>\n",
       "      <th>4</th>\n",
       "      <td>Male</td>\n",
       "      <td>John</td>\n",
       "      <td>Walker</td>\n",
       "      <td>Bradford</td>\n",
       "      <td>1993-Sep-29</td>\n",
       "      <td>8be9a41303d2f52784d4c55a1561064a</td>\n",
       "    </tr>\n",
       "  </tbody>\n",
       "</table>\n",
       "</div>"
      ],
      "text/plain": [
       "  gender first_name surname        city          dob  \\\n",
       "0   Male       Matt  Hughes    Kirklees  2003-Jun-11   \n",
       "1   Male        Tom   Brown  Birmingham  2006-Jan-19   \n",
       "2   Male        Tom  Hughes     Bristol  1997-Jun-21   \n",
       "3   Male       Alex  Wilson  Birmingham  2012-Jan-20   \n",
       "4   Male       John  Walker    Bradford  1993-Sep-29   \n",
       "\n",
       "                               code  \n",
       "0  a0f7d1e3def8a22d2708479d3e14a1e8  \n",
       "1  0bd7766ac3568d300d6c11e1369021e4  \n",
       "2  12693dc197b8e29185c8c8fb847599fa  \n",
       "3  2ec6b298ee37161204f187e32a1981b0  \n",
       "4  8be9a41303d2f52784d4c55a1561064a  "
      ]
     },
     "execution_count": 8,
     "metadata": {},
     "output_type": "execute_result"
    }
   ],
   "source": [
    "target_dataset.head()"
   ]
  },
  {
   "cell_type": "code",
   "execution_count": 9,
   "metadata": {
    "collapsed": false
   },
   "outputs": [
    {
     "data": {
      "text/html": [
       "<div>\n",
       "<table border=\"1\" class=\"dataframe\">\n",
       "  <thead>\n",
       "    <tr style=\"text-align: right;\">\n",
       "      <th></th>\n",
       "      <th>gender</th>\n",
       "      <th>first_name</th>\n",
       "      <th>surname</th>\n",
       "      <th>city</th>\n",
       "      <th>code</th>\n",
       "      <th>year</th>\n",
       "      <th>month</th>\n",
       "      <th>day</th>\n",
       "    </tr>\n",
       "  </thead>\n",
       "  <tbody>\n",
       "    <tr>\n",
       "      <th>0</th>\n",
       "      <td>Male</td>\n",
       "      <td>Matt</td>\n",
       "      <td>Hughes</td>\n",
       "      <td>Kirklees</td>\n",
       "      <td>a0f7d1e3def8a22d2708479d3e14a1e8</td>\n",
       "      <td>2003</td>\n",
       "      <td>Jun</td>\n",
       "      <td>11</td>\n",
       "    </tr>\n",
       "    <tr>\n",
       "      <th>1</th>\n",
       "      <td>Male</td>\n",
       "      <td>Tom</td>\n",
       "      <td>Brown</td>\n",
       "      <td>Birmingham</td>\n",
       "      <td>0bd7766ac3568d300d6c11e1369021e4</td>\n",
       "      <td>2006</td>\n",
       "      <td>Jan</td>\n",
       "      <td>19</td>\n",
       "    </tr>\n",
       "    <tr>\n",
       "      <th>2</th>\n",
       "      <td>Male</td>\n",
       "      <td>Tom</td>\n",
       "      <td>Hughes</td>\n",
       "      <td>Bristol</td>\n",
       "      <td>12693dc197b8e29185c8c8fb847599fa</td>\n",
       "      <td>1997</td>\n",
       "      <td>Jun</td>\n",
       "      <td>21</td>\n",
       "    </tr>\n",
       "    <tr>\n",
       "      <th>3</th>\n",
       "      <td>Male</td>\n",
       "      <td>Alex</td>\n",
       "      <td>Wilson</td>\n",
       "      <td>Birmingham</td>\n",
       "      <td>2ec6b298ee37161204f187e32a1981b0</td>\n",
       "      <td>2012</td>\n",
       "      <td>Jan</td>\n",
       "      <td>20</td>\n",
       "    </tr>\n",
       "    <tr>\n",
       "      <th>4</th>\n",
       "      <td>Male</td>\n",
       "      <td>John</td>\n",
       "      <td>Walker</td>\n",
       "      <td>Bradford</td>\n",
       "      <td>8be9a41303d2f52784d4c55a1561064a</td>\n",
       "      <td>1993</td>\n",
       "      <td>Sep</td>\n",
       "      <td>29</td>\n",
       "    </tr>\n",
       "  </tbody>\n",
       "</table>\n",
       "</div>"
      ],
      "text/plain": [
       "  gender first_name surname        city                              code  \\\n",
       "0   Male       Matt  Hughes    Kirklees  a0f7d1e3def8a22d2708479d3e14a1e8   \n",
       "1   Male        Tom   Brown  Birmingham  0bd7766ac3568d300d6c11e1369021e4   \n",
       "2   Male        Tom  Hughes     Bristol  12693dc197b8e29185c8c8fb847599fa   \n",
       "3   Male       Alex  Wilson  Birmingham  2ec6b298ee37161204f187e32a1981b0   \n",
       "4   Male       John  Walker    Bradford  8be9a41303d2f52784d4c55a1561064a   \n",
       "\n",
       "   year month day  \n",
       "0  2003   Jun  11  \n",
       "1  2006   Jan  19  \n",
       "2  1997   Jun  21  \n",
       "3  2012   Jan  20  \n",
       "4  1993   Sep  29  "
      ]
     },
     "execution_count": 9,
     "metadata": {},
     "output_type": "execute_result"
    }
   ],
   "source": [
    "target_dataset = target_dataset.join(target_dataset.dob.str.split(\"-\",expand=True))\n",
    "target_dataset = target_dataset.rename(columns={0:\"year\", 1:\"month\", 2:\"day\"})\n",
    "target_dataset = target_dataset.drop(\"dob\", axis=1)\n",
    "target_dataset.head()"
   ]
  },
  {
   "cell_type": "code",
   "execution_count": 10,
   "metadata": {
    "collapsed": true
   },
   "outputs": [],
   "source": [
    "# Now we need to create a corrupted version of this for matching\n",
    "candidate_dataset = target_dataset.sample(frac=0.8,replace=False).copy()"
   ]
  },
  {
   "cell_type": "code",
   "execution_count": 11,
   "metadata": {
    "collapsed": false
   },
   "outputs": [
    {
     "data": {
      "text/html": [
       "<div>\n",
       "<table border=\"1\" class=\"dataframe\">\n",
       "  <thead>\n",
       "    <tr style=\"text-align: right;\">\n",
       "      <th></th>\n",
       "      <th>gender</th>\n",
       "      <th>first_name</th>\n",
       "      <th>surname</th>\n",
       "      <th>city</th>\n",
       "      <th>code</th>\n",
       "      <th>year</th>\n",
       "      <th>month</th>\n",
       "      <th>day</th>\n",
       "    </tr>\n",
       "  </thead>\n",
       "  <tbody>\n",
       "    <tr>\n",
       "      <th>51</th>\n",
       "      <td>Male</td>\n",
       "      <td>Luke</td>\n",
       "      <td>Evans</td>\n",
       "      <td>Sheffield</td>\n",
       "      <td>c179075a2e6680af55310c9cb0ad4c89</td>\n",
       "      <td>1990</td>\n",
       "      <td>Nov</td>\n",
       "      <td>25</td>\n",
       "    </tr>\n",
       "    <tr>\n",
       "      <th>42</th>\n",
       "      <td>Male</td>\n",
       "      <td>James</td>\n",
       "      <td>Wood</td>\n",
       "      <td>Bradford</td>\n",
       "      <td>448b52cdef08706822011387a9e3946c</td>\n",
       "      <td>2002</td>\n",
       "      <td>Nov</td>\n",
       "      <td>26</td>\n",
       "    </tr>\n",
       "    <tr>\n",
       "      <th>59</th>\n",
       "      <td>Male</td>\n",
       "      <td>Matt</td>\n",
       "      <td>Martin</td>\n",
       "      <td>Kirklees</td>\n",
       "      <td>83f539d8cd04e0a4da72a54c8da19a70</td>\n",
       "      <td>2009</td>\n",
       "      <td>Apr</td>\n",
       "      <td>18</td>\n",
       "    </tr>\n",
       "    <tr>\n",
       "      <th>98</th>\n",
       "      <td>Female</td>\n",
       "      <td>Chloe</td>\n",
       "      <td>Williams</td>\n",
       "      <td>Glasgow</td>\n",
       "      <td>bc453ca0d852fd6c58fe739c5edc1c4e</td>\n",
       "      <td>2008</td>\n",
       "      <td>Jan</td>\n",
       "      <td>18</td>\n",
       "    </tr>\n",
       "    <tr>\n",
       "      <th>40</th>\n",
       "      <td>Male</td>\n",
       "      <td>John</td>\n",
       "      <td>Robinson</td>\n",
       "      <td>Fife</td>\n",
       "      <td>30734a59ef861c6d465213fe020ca8bb</td>\n",
       "      <td>2008</td>\n",
       "      <td>May</td>\n",
       "      <td>13</td>\n",
       "    </tr>\n",
       "  </tbody>\n",
       "</table>\n",
       "</div>"
      ],
      "text/plain": [
       "    gender first_name   surname       city                              code  \\\n",
       "51    Male       Luke     Evans  Sheffield  c179075a2e6680af55310c9cb0ad4c89   \n",
       "42    Male      James      Wood   Bradford  448b52cdef08706822011387a9e3946c   \n",
       "59    Male       Matt    Martin   Kirklees  83f539d8cd04e0a4da72a54c8da19a70   \n",
       "98  Female      Chloe  Williams    Glasgow  bc453ca0d852fd6c58fe739c5edc1c4e   \n",
       "40    Male       John  Robinson       Fife  30734a59ef861c6d465213fe020ca8bb   \n",
       "\n",
       "    year month day  \n",
       "51  1990   Nov  25  \n",
       "42  2002   Nov  26  \n",
       "59  2009   Apr  18  \n",
       "98  2008   Jan  18  \n",
       "40  2008   May  13  "
      ]
     },
     "execution_count": 11,
     "metadata": {},
     "output_type": "execute_result"
    }
   ],
   "source": [
    "candidate_dataset.head()"
   ]
  },
  {
   "cell_type": "code",
   "execution_count": 12,
   "metadata": {
    "collapsed": false
   },
   "outputs": [],
   "source": [
    "import random\n",
    "import string\n",
    "\n",
    "\n",
    "def switch(my_string):\n",
    "    pos1 = random.randrange(0,len(my_string)) \n",
    "    pos2 = random.randrange(0,len(my_string)) \n",
    "    my_string = list(my_string)\n",
    "    char1 = my_string[pos1]\n",
    "    char2 = my_string[pos2]\n",
    "    my_string[pos1] = char2\n",
    "    my_string[pos2] = char1\n",
    "    return \"\".join(my_string)\n",
    "\n",
    "def new_letter(my_string):\n",
    "    pos1 = random.randrange(0,len(my_string)) \n",
    "    letter = random.choice(string.ascii_lowercase)\n",
    "    return my_string[:pos1] + letter + my_string[pos1:]\n",
    "\n",
    "def delete_letter(my_string):\n",
    "    pos1 = random.randrange(1,len(my_string)) \n",
    "    return my_string[:pos1] + my_string[pos1+1:]\n",
    "\n",
    "def corrupt_string(my_string, num_switches=1,num_new_letters=0,num_deletes=0):\n",
    "    \n",
    "    for i in range(num_switches):\n",
    "        my_string = switch(my_string)\n",
    "        \n",
    "    for i in range(num_new_letters):\n",
    "        my_string = new_letter(my_string)\n",
    "        \n",
    "    for i in range(num_deletes):\n",
    "        my_string = delete_letter(my_string)\n",
    "        \n",
    "    return my_string"
   ]
  },
  {
   "cell_type": "code",
   "execution_count": 13,
   "metadata": {
    "collapsed": false
   },
   "outputs": [],
   "source": [
    "for r in candidate_dataset.iterrows():\n",
    "    index = r[0]\n",
    "    row = r[1]\n",
    "    \n",
    "    if (random.random()>0.9):\n",
    "        candidate_dataset.loc[index, \"first_name\"] = corrupt_string(row[\"first_name\"])\n",
    "    \n",
    "    if (random.random()>0.9):\n",
    "        candidate_dataset.loc[index, \"surname\"] = corrupt_string(row[\"surname\"], num_switches=0, num_deletes=1)\n",
    "        \n",
    "    if (random.random()>0.9):\n",
    "        candidate_dataset.loc[index, \"city\"] = corrupt_string(row[\"city\"], num_switches=0, num_deletes=1)\n",
    "        \n",
    "    if (random.random()>0.9):\n",
    "        surname = row[\"surname\"]\n",
    "        first_name = row[\"first_name\"]\n",
    "        candidate_dataset.loc[index, \"first_name\"] = surname\n",
    "        candidate_dataset.loc[index, \"surname\"] = first_name\n",
    "        \n",
    "    if (random.random()>0.9):\n",
    "        candidate_dataset.loc[index,\"year\"] = fake.date_time_between(start_date=\"-30y\", end_date=\"now\", tzinfo=None).strftime(\"%Y\")\n",
    "        \n",
    "    if (random.random()>0.9):\n",
    "        candidate_dataset.loc[index,\"day\"] = fake.date_time_between(start_date=\"-30y\", end_date=\"now\", tzinfo=None).strftime(\"%d\")\n",
    "    \n",
    "    if (random.random()>0.8):\n",
    "        candidate_dataset.loc[index, \"gender\"] = None\n",
    "        \n",
    "    if (random.random()>0.8):\n",
    "        candidate_dataset.loc[index, \"first_name\"] = None\n",
    "        \n",
    "    if (random.random()>0.8):\n",
    "        candidate_dataset.loc[index, \"surname\"] = None\n",
    "        \n",
    "    if (random.random()>0.8):\n",
    "        candidate_dataset.loc[index, \"year\"] = None\n",
    "        \n",
    "    if (random.random()>0.8):\n",
    "        candidate_dataset.loc[index, \"month\"] = None\n",
    "        \n",
    "    if (random.random()>0.8):\n",
    "        candidate_dataset.loc[index, \"day\"] = None\n",
    "        \n",
    "\n",
    "        "
   ]
  },
  {
   "cell_type": "code",
   "execution_count": 14,
   "metadata": {
    "collapsed": false
   },
   "outputs": [],
   "source": [
    "target_dataset.to_csv(\"target_dataset.csv\", encoding=\"utf-8\", index=False)"
   ]
  },
  {
   "cell_type": "code",
   "execution_count": 15,
   "metadata": {
    "collapsed": false
   },
   "outputs": [],
   "source": [
    "candidate_dataset.to_csv(\"candidate_dataset.csv\", encoding=\"utf-8\", index=False)"
   ]
  },
  {
   "cell_type": "code",
   "execution_count": null,
   "metadata": {
    "collapsed": true
   },
   "outputs": [],
   "source": []
  }
 ],
 "metadata": {
  "kernelspec": {
   "display_name": "Python 2",
   "language": "python",
   "name": "python2"
  },
  "language_info": {
   "codemirror_mode": {
    "name": "ipython",
    "version": 2
   },
   "file_extension": ".py",
   "mimetype": "text/x-python",
   "name": "python",
   "nbconvert_exporter": "python",
   "pygments_lexer": "ipython2",
   "version": "2.7.11"
  }
 },
 "nbformat": 4,
 "nbformat_minor": 0
}
