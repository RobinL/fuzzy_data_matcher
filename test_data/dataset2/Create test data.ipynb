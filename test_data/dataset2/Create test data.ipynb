{
 "cells": [
  {
   "cell_type": "code",
   "execution_count": 18,
   "metadata": {
    "collapsed": true
   },
   "outputs": [],
   "source": [
    "num_elements = 20000"
   ]
  },
  {
   "cell_type": "code",
   "execution_count": 19,
   "metadata": {
    "collapsed": false
   },
   "outputs": [],
   "source": [
    "import pandas as pd\n",
    "from faker import Faker\n",
    "fake = Faker()"
   ]
  },
  {
   "cell_type": "code",
   "execution_count": 20,
   "metadata": {
    "collapsed": false
   },
   "outputs": [],
   "source": [
    "import numpy as np\n",
    "elements = np.array([\"John\", \"James\", \"Alex\", \"Oliver\", \"Matt\", \"Tom\", \"Luke\"])\n",
    "probabilites = np.array([0.4,0.2,0.1,0.1,0.1,0.05,0.05])\n",
    "male_first_names = np.random.choice(elements, int(num_elements*0.8), list(probabilites))\n",
    "males = male_first_names.copy()\n",
    "males[:] = \"Male\"\n",
    "\n",
    "elements = np.array([\"Emily\", \"Emma\", \"Sophie\", \"Hannah\", \"Kate\", \"Rebecca\", \"Chloe\"])\n",
    "female_first_names = np.random.choice(elements, int(num_elements*0.2), list(probabilites))\n",
    "females = female_first_names.copy()\n",
    "females[:] = \"Female\"\n",
    "\n",
    "first_names = np.concatenate([male_first_names, female_first_names])\n",
    "\n",
    "genders = np.concatenate([males,females])"
   ]
  },
  {
   "cell_type": "code",
   "execution_count": 21,
   "metadata": {
    "collapsed": false
   },
   "outputs": [],
   "source": [
    "elements = np.array([\"Smith\",\n",
    "\"Jones\",\n",
    "\"Williams\",\n",
    "\"Brown\",\n",
    "\"Taylor\",\n",
    "\"Davies\",\n",
    "\"Wilson\",\n",
    "\"Evans\",\n",
    "\"Thomas\",\n",
    "\"Johnson\",\n",
    "\"Roberts\",\n",
    "\"Walker\",\n",
    "\"Wright\",\n",
    "\"Thompson\",\n",
    "\"Robinson\",\n",
    "\"White\",\n",
    "\"Hughes\",\n",
    "\"Edwards\",\n",
    "\"Hall\",\n",
    "\"Green\",\n",
    "\"Martin\",\n",
    "\"Wood\"])\n",
    "surnames = np.random.choice(elements, num_elements)"
   ]
  },
  {
   "cell_type": "code",
   "execution_count": 22,
   "metadata": {
    "collapsed": true
   },
   "outputs": [],
   "source": [
    "elements = np.array([\"London\",\n",
    "\"Birmingham\",\n",
    "\"Leeds\",\n",
    "\"Glasgow\",\n",
    "\"Sheffield\",\n",
    "\"Bradford\",\n",
    "\"Liverpool\",\n",
    "\"Edinburgh\",\n",
    "\"Manchester\",\n",
    "\"Bristol\",\n",
    "\"Kirklees\",\n",
    "\"Fife\"])\n",
    "cities = np.random.choice(elements, num_elements)"
   ]
  },
  {
   "cell_type": "code",
   "execution_count": 23,
   "metadata": {
    "collapsed": false
   },
   "outputs": [],
   "source": [
    "target_dataset = pd.DataFrame([genders, first_names, surnames, cities]).T\n",
    "target_dataset.columns = [\"gender\", \"first_name\", \"surname\", \"city\"]"
   ]
  },
  {
   "cell_type": "code",
   "execution_count": 24,
   "metadata": {
    "collapsed": false
   },
   "outputs": [],
   "source": [
    "for r in target_dataset.iterrows():\n",
    "    index = r[0]\n",
    "    target_dataset.loc[index,\"dob\"] =  fake.date_time_between(start_date=\"-30y\", end_date=\"now\", tzinfo=None).strftime(\"%Y-%b-%d\")\n",
    "    target_dataset.loc[index,\"code\"] = fake.md5()"
   ]
  },
  {
   "cell_type": "code",
   "execution_count": 25,
   "metadata": {
    "collapsed": false
   },
   "outputs": [
    {
     "data": {
      "text/html": [
       "<div>\n",
       "<table border=\"1\" class=\"dataframe\">\n",
       "  <thead>\n",
       "    <tr style=\"text-align: right;\">\n",
       "      <th></th>\n",
       "      <th>gender</th>\n",
       "      <th>first_name</th>\n",
       "      <th>surname</th>\n",
       "      <th>city</th>\n",
       "      <th>dob</th>\n",
       "      <th>code</th>\n",
       "    </tr>\n",
       "  </thead>\n",
       "  <tbody>\n",
       "    <tr>\n",
       "      <th>0</th>\n",
       "      <td>Male</td>\n",
       "      <td>Tom</td>\n",
       "      <td>Thomas</td>\n",
       "      <td>Bradford</td>\n",
       "      <td>2008-Dec-18</td>\n",
       "      <td>08732eb469b61042b23d4f5e6c004b29</td>\n",
       "    </tr>\n",
       "    <tr>\n",
       "      <th>1</th>\n",
       "      <td>Male</td>\n",
       "      <td>Luke</td>\n",
       "      <td>Johnson</td>\n",
       "      <td>Edinburgh</td>\n",
       "      <td>1994-Nov-16</td>\n",
       "      <td>326236e04ea9affa9dd08a2897f976b8</td>\n",
       "    </tr>\n",
       "    <tr>\n",
       "      <th>2</th>\n",
       "      <td>Male</td>\n",
       "      <td>John</td>\n",
       "      <td>Brown</td>\n",
       "      <td>Bradford</td>\n",
       "      <td>2001-Jan-03</td>\n",
       "      <td>fa752a3ed20f2c4db032dce7321fc1bc</td>\n",
       "    </tr>\n",
       "    <tr>\n",
       "      <th>3</th>\n",
       "      <td>Male</td>\n",
       "      <td>Oliver</td>\n",
       "      <td>Wood</td>\n",
       "      <td>Manchester</td>\n",
       "      <td>1992-Nov-25</td>\n",
       "      <td>9a061350d043bf9828ed32ce6a76ea03</td>\n",
       "    </tr>\n",
       "    <tr>\n",
       "      <th>4</th>\n",
       "      <td>Male</td>\n",
       "      <td>Luke</td>\n",
       "      <td>Smith</td>\n",
       "      <td>Bristol</td>\n",
       "      <td>2003-Jan-30</td>\n",
       "      <td>e9567a0846028bd6a34c751507a3cde8</td>\n",
       "    </tr>\n",
       "  </tbody>\n",
       "</table>\n",
       "</div>"
      ],
      "text/plain": [
       "  gender first_name  surname        city          dob  \\\n",
       "0   Male        Tom   Thomas    Bradford  2008-Dec-18   \n",
       "1   Male       Luke  Johnson   Edinburgh  1994-Nov-16   \n",
       "2   Male       John    Brown    Bradford  2001-Jan-03   \n",
       "3   Male     Oliver     Wood  Manchester  1992-Nov-25   \n",
       "4   Male       Luke    Smith     Bristol  2003-Jan-30   \n",
       "\n",
       "                               code  \n",
       "0  08732eb469b61042b23d4f5e6c004b29  \n",
       "1  326236e04ea9affa9dd08a2897f976b8  \n",
       "2  fa752a3ed20f2c4db032dce7321fc1bc  \n",
       "3  9a061350d043bf9828ed32ce6a76ea03  \n",
       "4  e9567a0846028bd6a34c751507a3cde8  "
      ]
     },
     "execution_count": 25,
     "metadata": {},
     "output_type": "execute_result"
    }
   ],
   "source": [
    "target_dataset.head()"
   ]
  },
  {
   "cell_type": "code",
   "execution_count": 26,
   "metadata": {
    "collapsed": false
   },
   "outputs": [
    {
     "data": {
      "text/html": [
       "<div>\n",
       "<table border=\"1\" class=\"dataframe\">\n",
       "  <thead>\n",
       "    <tr style=\"text-align: right;\">\n",
       "      <th></th>\n",
       "      <th>gender</th>\n",
       "      <th>first_name</th>\n",
       "      <th>surname</th>\n",
       "      <th>city</th>\n",
       "      <th>code</th>\n",
       "      <th>year</th>\n",
       "      <th>month</th>\n",
       "      <th>day</th>\n",
       "    </tr>\n",
       "  </thead>\n",
       "  <tbody>\n",
       "    <tr>\n",
       "      <th>0</th>\n",
       "      <td>Male</td>\n",
       "      <td>Tom</td>\n",
       "      <td>Thomas</td>\n",
       "      <td>Bradford</td>\n",
       "      <td>08732eb469b61042b23d4f5e6c004b29</td>\n",
       "      <td>2008</td>\n",
       "      <td>Dec</td>\n",
       "      <td>18</td>\n",
       "    </tr>\n",
       "    <tr>\n",
       "      <th>1</th>\n",
       "      <td>Male</td>\n",
       "      <td>Luke</td>\n",
       "      <td>Johnson</td>\n",
       "      <td>Edinburgh</td>\n",
       "      <td>326236e04ea9affa9dd08a2897f976b8</td>\n",
       "      <td>1994</td>\n",
       "      <td>Nov</td>\n",
       "      <td>16</td>\n",
       "    </tr>\n",
       "    <tr>\n",
       "      <th>2</th>\n",
       "      <td>Male</td>\n",
       "      <td>John</td>\n",
       "      <td>Brown</td>\n",
       "      <td>Bradford</td>\n",
       "      <td>fa752a3ed20f2c4db032dce7321fc1bc</td>\n",
       "      <td>2001</td>\n",
       "      <td>Jan</td>\n",
       "      <td>03</td>\n",
       "    </tr>\n",
       "    <tr>\n",
       "      <th>3</th>\n",
       "      <td>Male</td>\n",
       "      <td>Oliver</td>\n",
       "      <td>Wood</td>\n",
       "      <td>Manchester</td>\n",
       "      <td>9a061350d043bf9828ed32ce6a76ea03</td>\n",
       "      <td>1992</td>\n",
       "      <td>Nov</td>\n",
       "      <td>25</td>\n",
       "    </tr>\n",
       "    <tr>\n",
       "      <th>4</th>\n",
       "      <td>Male</td>\n",
       "      <td>Luke</td>\n",
       "      <td>Smith</td>\n",
       "      <td>Bristol</td>\n",
       "      <td>e9567a0846028bd6a34c751507a3cde8</td>\n",
       "      <td>2003</td>\n",
       "      <td>Jan</td>\n",
       "      <td>30</td>\n",
       "    </tr>\n",
       "  </tbody>\n",
       "</table>\n",
       "</div>"
      ],
      "text/plain": [
       "  gender first_name  surname        city                              code  \\\n",
       "0   Male        Tom   Thomas    Bradford  08732eb469b61042b23d4f5e6c004b29   \n",
       "1   Male       Luke  Johnson   Edinburgh  326236e04ea9affa9dd08a2897f976b8   \n",
       "2   Male       John    Brown    Bradford  fa752a3ed20f2c4db032dce7321fc1bc   \n",
       "3   Male     Oliver     Wood  Manchester  9a061350d043bf9828ed32ce6a76ea03   \n",
       "4   Male       Luke    Smith     Bristol  e9567a0846028bd6a34c751507a3cde8   \n",
       "\n",
       "   year month day  \n",
       "0  2008   Dec  18  \n",
       "1  1994   Nov  16  \n",
       "2  2001   Jan  03  \n",
       "3  1992   Nov  25  \n",
       "4  2003   Jan  30  "
      ]
     },
     "execution_count": 26,
     "metadata": {},
     "output_type": "execute_result"
    }
   ],
   "source": [
    "target_dataset = target_dataset.join(target_dataset.dob.str.split(\"-\",expand=True))\n",
    "target_dataset = target_dataset.rename(columns={0:\"year\", 1:\"month\", 2:\"day\"})\n",
    "target_dataset = target_dataset.drop(\"dob\", axis=1)\n",
    "target_dataset.head()"
   ]
  },
  {
   "cell_type": "code",
   "execution_count": 27,
   "metadata": {
    "collapsed": true
   },
   "outputs": [],
   "source": [
    "# Now we need to create a corrupted version of this for matching\n",
    "candidate_dataset = target_dataset.sample(frac=0.8,replace=False).copy()"
   ]
  },
  {
   "cell_type": "code",
   "execution_count": null,
   "metadata": {
    "collapsed": false
   },
   "outputs": [],
   "source": []
  },
  {
   "cell_type": "code",
   "execution_count": 28,
   "metadata": {
    "collapsed": false
   },
   "outputs": [],
   "source": [
    "import random\n",
    "import string\n",
    "\n",
    "\n",
    "def switch(my_string):\n",
    "    pos1 = random.randrange(0,len(my_string)) \n",
    "    pos2 = random.randrange(0,len(my_string)) \n",
    "    my_string = list(my_string)\n",
    "    char1 = my_string[pos1]\n",
    "    char2 = my_string[pos2]\n",
    "    my_string[pos1] = char2\n",
    "    my_string[pos2] = char1\n",
    "    return \"\".join(my_string)\n",
    "\n",
    "def new_letter(my_string):\n",
    "    pos1 = random.randrange(0,len(my_string)) \n",
    "    letter = random.choice(string.ascii_lowercase)\n",
    "    return my_string[:pos1] + letter + my_string[pos1:]\n",
    "\n",
    "def delete_letter(my_string):\n",
    "    pos1 = random.randrange(1,len(my_string)) \n",
    "    return my_string[:pos1] + my_string[pos1+1:]\n",
    "\n",
    "def corrupt_string(my_string, num_switches=1,num_new_letters=0,num_deletes=0):\n",
    "    \n",
    "    for i in range(num_switches):\n",
    "        my_string = switch(my_string)\n",
    "        \n",
    "    for i in range(num_new_letters):\n",
    "        my_string = new_letter(my_string)\n",
    "        \n",
    "    for i in range(num_deletes):\n",
    "        my_string = delete_letter(my_string)\n",
    "        \n",
    "    return my_string"
   ]
  },
  {
   "cell_type": "code",
   "execution_count": 29,
   "metadata": {
    "collapsed": false
   },
   "outputs": [],
   "source": [
    "for r in candidate_dataset.iterrows():\n",
    "    index = r[0]\n",
    "    row = r[1]\n",
    "    \n",
    "    if (random.random()>0.9):\n",
    "        candidate_dataset.loc[index, \"first_name\"] = corrupt_string(row[\"first_name\"])\n",
    "    \n",
    "    if (random.random()>0.9):\n",
    "        candidate_dataset.loc[index, \"surname\"] = corrupt_string(row[\"surname\"], num_switches=0, num_deletes=1)\n",
    "        \n",
    "    if (random.random()>0.9):\n",
    "        candidate_dataset.loc[index, \"city\"] = corrupt_string(row[\"city\"], num_switches=0, num_deletes=1)\n",
    "        \n",
    "    if (random.random()>0.9):\n",
    "        surname = row[\"surname\"]\n",
    "        first_name = row[\"first_name\"]\n",
    "        candidate_dataset.loc[index, \"first_name\"] = surname\n",
    "        candidate_dataset.loc[index, \"surname\"] = first_name\n",
    "        \n",
    "    if (random.random()>0.9):\n",
    "        candidate_dataset.loc[index,\"year\"] = fake.date_time_between(start_date=\"-30y\", end_date=\"now\", tzinfo=None).strftime(\"%Y\")\n",
    "        \n",
    "    if (random.random()>0.9):\n",
    "        candidate_dataset.loc[index,\"day\"] = fake.date_time_between(start_date=\"-30y\", end_date=\"now\", tzinfo=None).strftime(\"%d\")\n",
    "    \n",
    "    if (random.random()>0.8):\n",
    "        candidate_dataset.loc[index, \"gender\"] = None\n",
    "        \n",
    "    if (random.random()>0.8):\n",
    "        candidate_dataset.loc[index, \"first_name\"] = None\n",
    "        \n",
    "    if (random.random()>0.8):\n",
    "        candidate_dataset.loc[index, \"surname\"] = None\n",
    "        \n",
    "    if (random.random()>0.8):\n",
    "        candidate_dataset.loc[index, \"year\"] = None\n",
    "        \n",
    "    if (random.random()>0.8):\n",
    "        candidate_dataset.loc[index, \"month\"] = None\n",
    "        \n",
    "    if (random.random()>0.8):\n",
    "        candidate_dataset.loc[index, \"day\"] = None\n",
    "        \n",
    "\n",
    "        "
   ]
  },
  {
   "cell_type": "code",
   "execution_count": 30,
   "metadata": {
    "collapsed": false
   },
   "outputs": [],
   "source": [
    "target_dataset.sample(frac=0.5).to_csv(\"target_dataset.csv\", encoding=\"utf-8\", index=False)"
   ]
  },
  {
   "cell_type": "code",
   "execution_count": 31,
   "metadata": {
    "collapsed": false
   },
   "outputs": [],
   "source": [
    "candidate_dataset.to_csv(\"candidate_dataset.csv\", encoding=\"utf-8\", index=False)"
   ]
  }
 ],
 "metadata": {
  "anaconda-cloud": {},
  "kernelspec": {
   "display_name": "Python [Root]",
   "language": "python",
   "name": "Python [Root]"
  },
  "language_info": {
   "codemirror_mode": {
    "name": "ipython",
    "version": 2
   },
   "file_extension": ".py",
   "mimetype": "text/x-python",
   "name": "python",
   "nbconvert_exporter": "python",
   "pygments_lexer": "ipython2",
   "version": "2.7.12"
  }
 },
 "nbformat": 4,
 "nbformat_minor": 0
}
