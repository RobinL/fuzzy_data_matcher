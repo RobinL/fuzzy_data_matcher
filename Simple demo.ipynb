{
 "cells": [
  {
   "cell_type": "code",
   "execution_count": 1,
   "metadata": {
    "collapsed": false
   },
   "outputs": [],
   "source": [
    "from data_preprocessing.utils import get_freq_dict_from_col\n",
    "from data_preprocessing.csv_to_db_entry import get_candidate_target_datasets, match_candidate_target_datasets\n",
    "import pandas as pd\n",
    "import re\n",
    "\n",
    "path_to_candidate_dataset = r\"test_data/dataset1/candidate_dataset.csv\"\n",
    "path_to_target_dataset = r\"test_data/dataset1/target_dataset.csv\"\n",
    "\n",
    "dmetaphone_cols = [\"first_name\", \"surname\", \"city\"]\n",
    "drop_columns = [\"code\"]\n",
    "\n",
    "df_c, df_t = get_candidate_target_datasets(path_to_candidate_dataset, \n",
    "                                             path_to_target_dataset,\n",
    "                                             candidate_dmetaphone_cols=dmetaphone_cols,\n",
    "                                             target_dmetaphone_cols=dmetaphone_cols,\n",
    "                                             candidate_drop_columns = drop_columns,\n",
    "                                             target_drop_columns = drop_columns)"
   ]
  },
  {
   "cell_type": "code",
   "execution_count": 2,
   "metadata": {
    "collapsed": false
   },
   "outputs": [],
   "source": [
    "df_matched = match_candidate_target_datasets(df_c,df_t)"
   ]
  },
  {
   "cell_type": "code",
   "execution_count": 3,
   "metadata": {
    "collapsed": false
   },
   "outputs": [
    {
     "data": {
      "text/html": [
       "<div>\n",
       "<table border=\"1\" class=\"dataframe\">\n",
       "  <thead>\n",
       "    <tr style=\"text-align: right;\">\n",
       "      <th></th>\n",
       "      <th>auto_generated_row_id_can</th>\n",
       "      <th>auto_generated_row_id_tar</th>\n",
       "      <th>concat_all_can</th>\n",
       "      <th>concat_all_tar</th>\n",
       "      <th>match_probability</th>\n",
       "      <th>match_score</th>\n",
       "    </tr>\n",
       "  </thead>\n",
       "  <tbody>\n",
       "    <tr>\n",
       "      <th>72</th>\n",
       "      <td>candidate_73</td>\n",
       "      <td>target_38</td>\n",
       "      <td>male matt williams london 2007 oct 18 mt alms lntn</td>\n",
       "      <td>male matt williams london 2007 oct 18 mt alms lntn</td>\n",
       "      <td>9.953280e-22</td>\n",
       "      <td>0.954638</td>\n",
       "    </tr>\n",
       "    <tr>\n",
       "      <th>49</th>\n",
       "      <td>candidate_50</td>\n",
       "      <td>target_95</td>\n",
       "      <td>female emma white glasgow 2002 jul 14 am at klsk</td>\n",
       "      <td>female emma white glasgow 2002 jul 14 am at klsk</td>\n",
       "      <td>6.812467e-22</td>\n",
       "      <td>0.962123</td>\n",
       "    </tr>\n",
       "    <tr>\n",
       "      <th>38</th>\n",
       "      <td>candidate_39</td>\n",
       "      <td>target_48</td>\n",
       "      <td>male alex smith fife 2014 may 10 alks sm0 ff</td>\n",
       "      <td>male alex smith fife 2014 may 10 alks sm0 ff</td>\n",
       "      <td>4.762800e-22</td>\n",
       "      <td>0.969188</td>\n",
       "    </tr>\n",
       "    <tr>\n",
       "      <th>18</th>\n",
       "      <td>candidate_19</td>\n",
       "      <td>target_16</td>\n",
       "      <td>jones tom bristol 1992 feb 21 jns tm prst</td>\n",
       "      <td>male tom jones bristol 1992 feb 21 tm jns prst</td>\n",
       "      <td>2.112000e-22</td>\n",
       "      <td>0.985241</td>\n",
       "    </tr>\n",
       "    <tr>\n",
       "      <th>58</th>\n",
       "      <td>candidate_59</td>\n",
       "      <td>target_97</td>\n",
       "      <td>female white emily manchester 2009 aug 02 at aml mnxs</td>\n",
       "      <td>female emily white manchester 2009 aug 02 aml at mnxs</td>\n",
       "      <td>1.032192e-22</td>\n",
       "      <td>0.999375</td>\n",
       "    </tr>\n",
       "  </tbody>\n",
       "</table>\n",
       "</div>"
      ],
      "text/plain": [
       "   auto_generated_row_id_can auto_generated_row_id_tar  \\\n",
       "72              candidate_73                 target_38   \n",
       "49              candidate_50                 target_95   \n",
       "38              candidate_39                 target_48   \n",
       "18              candidate_19                 target_16   \n",
       "58              candidate_59                 target_97   \n",
       "\n",
       "                                           concat_all_can  \\\n",
       "72     male matt williams london 2007 oct 18 mt alms lntn   \n",
       "49       female emma white glasgow 2002 jul 14 am at klsk   \n",
       "38           male alex smith fife 2014 may 10 alks sm0 ff   \n",
       "18              jones tom bristol 1992 feb 21 jns tm prst   \n",
       "58  female white emily manchester 2009 aug 02 at aml mnxs   \n",
       "\n",
       "                                           concat_all_tar  match_probability  \\\n",
       "72     male matt williams london 2007 oct 18 mt alms lntn       9.953280e-22   \n",
       "49       female emma white glasgow 2002 jul 14 am at klsk       6.812467e-22   \n",
       "38           male alex smith fife 2014 may 10 alks sm0 ff       4.762800e-22   \n",
       "18         male tom jones bristol 1992 feb 21 tm jns prst       2.112000e-22   \n",
       "58  female emily white manchester 2009 aug 02 aml at mnxs       1.032192e-22   \n",
       "\n",
       "    match_score  \n",
       "72     0.954638  \n",
       "49     0.962123  \n",
       "38     0.969188  \n",
       "18     0.985241  \n",
       "58     0.999375  "
      ]
     },
     "execution_count": 3,
     "metadata": {},
     "output_type": "execute_result"
    }
   ],
   "source": [
    "pd.options.display.max_colwidth = 1000\n",
    "df_matched.sort_values(\"match_score\").tail()"
   ]
  },
  {
   "cell_type": "code",
   "execution_count": null,
   "metadata": {
    "collapsed": true
   },
   "outputs": [],
   "source": []
  }
 ],
 "metadata": {
  "kernelspec": {
   "display_name": "Python [Root]",
   "language": "python",
   "name": "Python [Root]"
  },
  "language_info": {
   "codemirror_mode": {
    "name": "ipython",
    "version": 2
   },
   "file_extension": ".py",
   "mimetype": "text/x-python",
   "name": "python",
   "nbconvert_exporter": "python",
   "pygments_lexer": "ipython2",
   "version": "2.7.12"
  }
 },
 "nbformat": 4,
 "nbformat_minor": 0
}
